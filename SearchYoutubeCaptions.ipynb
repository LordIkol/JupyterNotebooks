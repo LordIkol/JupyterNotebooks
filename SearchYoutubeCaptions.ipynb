{
 "cells": [
  {
   "cell_type": "code",
   "execution_count": 3,
   "metadata": {},
   "outputs": [
    {
     "data": {
      "application/vnd.jupyter.widget-view+json": {
       "model_id": "07013ec1fe14417fb8e3e8892ffb234b",
       "version_major": 2,
       "version_minor": 0
      },
      "text/plain": [
       "Text(value='https://www.youtube.com/watch?v=HaZ2Er-PWRM', description='Video Link', placeholder='Paste link to…"
      ]
     },
     "metadata": {},
     "output_type": "display_data"
    },
    {
     "data": {
      "application/vnd.jupyter.widget-view+json": {
       "model_id": "4b9b9f05416f49f4ae9cdf21334138a4",
       "version_major": 2,
       "version_minor": 0
      },
      "text/plain": [
       "Text(value='', description='Search Word:', placeholder='Type word to find in transcript')"
      ]
     },
     "metadata": {},
     "output_type": "display_data"
    },
    {
     "data": {
      "application/vnd.jupyter.widget-view+json": {
       "model_id": "77c6bdd11b9d4eae99a12041206bb70a",
       "version_major": 2,
       "version_minor": 0
      },
      "text/plain": [
       "Output(layout=Layout(border='1px solid white'))"
      ]
     },
     "metadata": {},
     "output_type": "display_data"
    },
    {
     "data": {
      "application/vnd.jupyter.widget-view+json": {
       "model_id": "9743a9c1baea4bbabc2e9f9ec2581de8",
       "version_major": 2,
       "version_minor": 0
      },
      "text/plain": [
       "Output(layout=Layout(border='1px solid white'))"
      ]
     },
     "metadata": {},
     "output_type": "display_data"
    },
    {
     "data": {
      "application/vnd.jupyter.widget-view+json": {
       "model_id": "77c6bdd11b9d4eae99a12041206bb70a",
       "version_major": 2,
       "version_minor": 0
      },
      "text/plain": [
       "Output(layout=Layout(border='1px solid white'), outputs=({'output_type': 'stream', 'name': 'stdout', 'text': '…"
      ]
     },
     "metadata": {},
     "output_type": "display_data"
    },
    {
     "data": {
      "application/vnd.jupyter.widget-view+json": {
       "model_id": "9743a9c1baea4bbabc2e9f9ec2581de8",
       "version_major": 2,
       "version_minor": 0
      },
      "text/plain": [
       "Output(layout=Layout(border='1px solid white'), outputs=({'output_type': 'stream', 'name': 'stdout', 'text': \"…"
      ]
     },
     "metadata": {},
     "output_type": "display_data"
    },
    {
     "data": {
      "application/vnd.jupyter.widget-view+json": {
       "model_id": "77c6bdd11b9d4eae99a12041206bb70a",
       "version_major": 2,
       "version_minor": 0
      },
      "text/plain": [
       "Output(layout=Layout(border='1px solid white'), outputs=({'output_type': 'stream', 'name': 'stdout', 'text': '…"
      ]
     },
     "metadata": {},
     "output_type": "display_data"
    },
    {
     "data": {
      "application/vnd.jupyter.widget-view+json": {
       "model_id": "9743a9c1baea4bbabc2e9f9ec2581de8",
       "version_major": 2,
       "version_minor": 0
      },
      "text/plain": [
       "Output(layout=Layout(border='1px solid white'), outputs=({'output_type': 'stream', 'name': 'stdout', 'text': \"…"
      ]
     },
     "metadata": {},
     "output_type": "display_data"
    },
    {
     "data": {
      "application/vnd.jupyter.widget-view+json": {
       "model_id": "77c6bdd11b9d4eae99a12041206bb70a",
       "version_major": 2,
       "version_minor": 0
      },
      "text/plain": [
       "Output(layout=Layout(border='1px solid white'), outputs=({'output_type': 'stream', 'name': 'stdout', 'text': '…"
      ]
     },
     "metadata": {},
     "output_type": "display_data"
    },
    {
     "data": {
      "application/vnd.jupyter.widget-view+json": {
       "model_id": "9743a9c1baea4bbabc2e9f9ec2581de8",
       "version_major": 2,
       "version_minor": 0
      },
      "text/plain": [
       "Output(layout=Layout(border='1px solid white'), outputs=({'output_type': 'stream', 'name': 'stdout', 'text': \"…"
      ]
     },
     "metadata": {},
     "output_type": "display_data"
    }
   ],
   "source": [
    "from ipywidgets import interact, widgets\n",
    "from IPython.display import display\n",
    "from youtube_transcript_api import YouTubeTranscriptApi\n",
    "import urllib.parse as urlparse\n",
    "import time\n",
    "\n",
    "text = widgets.Text(\n",
    "    value='https://www.youtube.com/watch?v=HaZ2Er-PWRM',\n",
    "    placeholder='Paste link to youtube video',\n",
    "    description='Video Link',\n",
    "    disabled=False\n",
    ")\n",
    "\n",
    "text2 = widgets.Text(\n",
    "    value='',\n",
    "    placeholder='Type word to find in transcript',\n",
    "    description='Search Word:',\n",
    "    disabled=False\n",
    ")\n",
    "\n",
    "display(text,text2)\n",
    "\n",
    "def callback(wdgt):\n",
    "    out.clear_output()\n",
    "    out2.clear_output()\n",
    "    transcriptrows = 0\n",
    "    matchedrows = 0\n",
    "    output2 = \"\"\n",
    "    output = \"\"\n",
    "    try:\n",
    "        url_data = urlparse.urlparse(text.value)\n",
    "        query = urlparse.parse_qs(url_data.query)\n",
    "        videoid = query[\"v\"][0]\n",
    "    except:\n",
    "        out.clear_output()\n",
    "        out.append_stdout(\"Invalid URL\")\n",
    "        display(out)\n",
    "        return\n",
    "    try:\n",
    "        transcript_list = YouTubeTranscriptApi.list_transcripts(videoid)\n",
    "        transcript = transcript_list.find_transcript(['en'])\n",
    "        transcript_Array = transcript.fetch()\n",
    "    except:\n",
    "        out.clear_output()\n",
    "        out.append_stdout(\"No Caption Data found\")\n",
    "        display(out)\n",
    "        return\n",
    "    \n",
    "   \n",
    "    for row in transcript_Array:\n",
    "        transcriptrows += 1\n",
    "        timestamp = time.strftime('%H:%M:%S', time.gmtime(row[\"start\"]))\n",
    "        if wdgt.value.upper() in row[\"text\"].upper():\n",
    "            output = output + str(timestamp) + \": \" + row[\"text\"] + \"\\n\"\n",
    "            matchedrows += 1\n",
    "            \n",
    "        \n",
    "    out2.append_stdout(output)\n",
    "    out.append_stdout(\"Rows in Transcript: \" + str(transcriptrows) + \"\\n\" )\n",
    "    out.append_stdout(\"Matched Keyword: \" + str(matchedrows) + \"\\n\" )\n",
    "    display(out,out2)\n",
    "    \n",
    "\n",
    "out = widgets.Output(layout={'border': '1px solid white'})\n",
    "out2 = widgets.Output(layout={'border': '1px solid white'})\n",
    "out.clear_output()\n",
    "out2.clear_output()\n",
    "display(out,out2)\n",
    "\n",
    "text2.on_submit(callback)"
   ]
  },
  {
   "cell_type": "code",
   "execution_count": null,
   "metadata": {},
   "outputs": [],
   "source": []
  }
 ],
 "metadata": {
  "kernelspec": {
   "display_name": "Python 3",
   "language": "python",
   "name": "python3"
  },
  "language_info": {
   "codemirror_mode": {
    "name": "ipython",
    "version": 3
   },
   "file_extension": ".py",
   "mimetype": "text/x-python",
   "name": "python",
   "nbconvert_exporter": "python",
   "pygments_lexer": "ipython3",
   "version": "3.7.1"
  }
 },
 "nbformat": 4,
 "nbformat_minor": 2
}
