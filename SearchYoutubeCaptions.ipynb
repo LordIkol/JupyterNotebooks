{
 "cells": [
  {
   "cell_type": "code",
   "execution_count": 7,
   "metadata": {},
   "outputs": [
    {
     "data": {
      "application/vnd.jupyter.widget-view+json": {
       "model_id": "0cc02a4fb5c84119834c38a03b4fe9e4",
       "version_major": 2,
       "version_minor": 0
      },
      "text/plain": [
       "Text(value='https://www.youtube.com/watch?v=EuQXEySeWdw', description='Video Link', placeholder='Paste link to…"
      ]
     },
     "metadata": {},
     "output_type": "display_data"
    },
    {
     "data": {
      "application/vnd.jupyter.widget-view+json": {
       "model_id": "cbdc8972ecbb4fbb98f7db184a2eef33",
       "version_major": 2,
       "version_minor": 0
      },
      "text/plain": [
       "Text(value='', description='Search Word:', placeholder='Type word to find in transcript')"
      ]
     },
     "metadata": {},
     "output_type": "display_data"
    },
    {
     "data": {
      "application/vnd.jupyter.widget-view+json": {
       "model_id": "2ca720eac30f44eba84806df07acc0bb",
       "version_major": 2,
       "version_minor": 0
      },
      "text/plain": [
       "Output(layout=Layout(border='1px solid white'))"
      ]
     },
     "metadata": {},
     "output_type": "display_data"
    },
    {
     "data": {
      "application/vnd.jupyter.widget-view+json": {
       "model_id": "b1a332d9bf774f188b108da24904fc4b",
       "version_major": 2,
       "version_minor": 0
      },
      "text/plain": [
       "Output(layout=Layout(border='1px solid white'))"
      ]
     },
     "metadata": {},
     "output_type": "display_data"
    }
   ],
   "source": [
    "from ipywidgets import interact, widgets\n",
    "from IPython.display import display\n",
    "from youtube_transcript_api import YouTubeTranscriptApi\n",
    "import urllib.parse as urlparse\n",
    "import time\n",
    "\n",
    "text = widgets.Text(\n",
    "    value='https://www.youtube.com/watch?v=EuQXEySeWdw',\n",
    "    placeholder='Paste link to youtube video',\n",
    "    description='Video Link',\n",
    "    disabled=False\n",
    ")\n",
    "\n",
    "text2 = widgets.Text(\n",
    "    value='',\n",
    "    placeholder='Type word to find in transcript',\n",
    "    description='Search Word:',\n",
    "    disabled=False\n",
    ")\n",
    "\n",
    "display(text,text2)\n",
    "\n",
    "def callback(wdgt):\n",
    "    out.clear_output()\n",
    "    out2.clear_output()\n",
    "    transcriptrows = 0\n",
    "    matchedrows = 0\n",
    "    output2 = \"\"\n",
    "    output = \"\"\n",
    "    try:\n",
    "        url_data = urlparse.urlparse(text.value)\n",
    "        query = urlparse.parse_qs(url_data.query)\n",
    "        videoid = query[\"v\"][0]\n",
    "    except:\n",
    "        out.clear_output()\n",
    "        out.append_stdout(\"Invalid URL\")\n",
    "        return\n",
    "    try:\n",
    "        transcript_list = YouTubeTranscriptApi.list_transcripts(videoid)\n",
    "        transcript = transcript_list.find_transcript(['en'])\n",
    "        transcript_Array = transcript.fetch()\n",
    "    except:\n",
    "        out.clear_output()\n",
    "        out.append_stdout(\"No Caption Data found\")\n",
    "        return\n",
    "    \n",
    "   \n",
    "    for row in transcript_Array:\n",
    "        transcriptrows += 1\n",
    "        timestamp = time.strftime('%H:%M:%S', time.gmtime(row[\"start\"]))\n",
    "        if wdgt.value.upper() in row[\"text\"].upper():\n",
    "            output = output + str(timestamp) + \": \" + row[\"text\"] + \"\\n\"\n",
    "            matchedrows += 1\n",
    "            \n",
    "        \n",
    "    out2.append_stdout(output)\n",
    "    out.append_stdout(\"Rows in Transcript: \" + str(transcriptrows) + \"\\n\" + \"Matched Keyword: \" + str(matchedrows) + \"\\n\" )\n",
    "    \n",
    "\n",
    "out = widgets.Output(layout={'border': '1px solid white'})\n",
    "out2 = widgets.Output(layout={'border': '1px solid white'})\n",
    "out.clear_output()\n",
    "out2.clear_output()\n",
    "display(out,out2)\n",
    "callback(text2)\n",
    "text2.on_submit(callback)"
   ]
  },
  {
   "cell_type": "code",
   "execution_count": null,
   "metadata": {},
   "outputs": [],
   "source": []
  },
  {
   "cell_type": "code",
   "execution_count": null,
   "metadata": {},
   "outputs": [],
   "source": []
  }
 ],
 "metadata": {
  "kernelspec": {
   "display_name": "Python 3",
   "language": "python",
   "name": "python3"
  },
  "language_info": {
   "codemirror_mode": {
    "name": "ipython",
    "version": 3
   },
   "file_extension": ".py",
   "mimetype": "text/x-python",
   "name": "python",
   "nbconvert_exporter": "python",
   "pygments_lexer": "ipython3",
   "version": "3.7.1"
  }
 },
 "nbformat": 4,
 "nbformat_minor": 2
}
